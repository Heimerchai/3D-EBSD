{
 "cells": [
  {
   "cell_type": "code",
   "execution_count": 10,
   "metadata": {},
   "outputs": [],
   "source": [
    "import os\n",
    "import re\n",
    "import numpy as np"
   ]
  },
  {
   "cell_type": "code",
   "execution_count": 11,
   "metadata": {},
   "outputs": [],
   "source": [
    "#functions to combine ctf files\n",
    "def process_files_in_directory(directory, skip_lines):\n",
    "    files = [f for f in os.listdir(directory) if f.endswith('.ctf')]\n",
    "\n",
    "    # 使用正则表达式提取文件名中的数字部分\n",
    "    def extract_number_from_filename(filename):\n",
    "        match = re.search(r'\\d+', filename)\n",
    "        return int(match.group()) if match else 0\n",
    "    \n",
    "    # 按照提取的数字部分对文件进行排序\n",
    "    files.sort(key=extract_number_from_filename)\n",
    "    \n",
    "    z_increment = 0.05\n",
    "    z = 0.0\n",
    "    \n",
    "    processed_data = []\n",
    "    \n",
    "    for file in files:\n",
    "        file_path = os.path.join(directory, file)\n",
    "        data = np.genfromtxt(file_path, skip_header=skip_lines)\n",
    "        \n",
    "        for line in data:\n",
    "            phase, x, y, bands, error, euler1, euler2, euler3, mad, bc, bs = line\n",
    "            processed_data.append((phase, x, y, np.round(z, 3), bands, error, euler1, euler2, euler3, mad, bc, bs))\n",
    "        \n",
    "        z += z_increment\n",
    "\n",
    "    processed_data = np.array(processed_data)\n",
    "    return processed_data"
   ]
  },
  {
   "cell_type": "code",
   "execution_count": 12,
   "metadata": {},
   "outputs": [],
   "source": [
    "# Process the data\n",
    "directory = '/Users/fujiilab_imac_r0309_02/Documents/柴振邦_2022.09.26-/Experiment_results/3D-EBSD/20240619_Helios_5UX/20240619_EBSD/mod_data/Export_mod03'\n",
    "skip_lines = 15\n",
    "data = process_files_in_directory(directory, skip_lines)\n",
    "\n",
    "# Save the processed data to a new file if needed\n",
    "np.savetxt('3d_ebsd_20240619_combined_data.txt', data, fmt='%s', delimiter='\\t', header='Phase\\tx\\ty\\tz\\tBands\\tError\\tEuler1\\tEuler2\\tEuler3\\tMAD\\tBC\\tBS', comments='')"
   ]
  }
 ],
 "metadata": {
  "kernelspec": {
   "display_name": "Python 3",
   "language": "python",
   "name": "python3"
  },
  "language_info": {
   "codemirror_mode": {
    "name": "ipython",
    "version": 3
   },
   "file_extension": ".py",
   "mimetype": "text/x-python",
   "name": "python",
   "nbconvert_exporter": "python",
   "pygments_lexer": "ipython3",
   "version": "3.11.1"
  }
 },
 "nbformat": 4,
 "nbformat_minor": 2
}
