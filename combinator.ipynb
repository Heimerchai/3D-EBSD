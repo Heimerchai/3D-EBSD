{
 "cells": [
  {
   "cell_type": "code",
   "execution_count": 7,
   "metadata": {},
   "outputs": [],
   "source": [
    "import os\n",
    "import numpy as np"
   ]
  },
  {
   "cell_type": "code",
   "execution_count": 8,
   "metadata": {},
   "outputs": [],
   "source": [
    "#functions to combine ctf files\n",
    "def process_files_in_directory(directory, skip_lines):\n",
    "    files = [f for f in os.listdir(directory) if f.endswith('.ctf')]\n",
    "    z_increment = 0.05\n",
    "    z = 0.0\n",
    "    \n",
    "    processed_data = []\n",
    "    \n",
    "    for file in files:\n",
    "        file_path = os.path.join(directory, file)\n",
    "        data = np.genfromtxt(file_path, skip_header=skip_lines)\n",
    "        \n",
    "        for line in data:\n",
    "            phase, x, y, bands, error, euler1, euler2, euler3, mad, bc, bs = line\n",
    "            processed_data.append((phase, x, y, round(z, 3), bands, error, euler1, euler2, euler3, mad, bc, bs))\n",
    "        \n",
    "        z += z_increment\n",
    "\n",
    "    processed_data = np.array(processed_data)\n",
    "    return processed_data"
   ]
  },
  {
   "cell_type": "code",
   "execution_count": 9,
   "metadata": {},
   "outputs": [],
   "source": [
    "# Process the data\n",
    "directory = '/Users/fujiilab_imac_r0309_02/Documents/柴振邦_2022.09.26-/Experiment_results/3D-EBSD/20240619_Helios_5UX/20240619_EBSD/mod_data/Export_mod03'\n",
    "skip_lines = 17\n",
    "data = process_files_in_directory(directory, skip_lines)\n",
    "\n",
    "# Save the processed data to a new file if needed\n",
    "np.savetxt('3d_ebsd_20240619_combined_data.txt', data, fmt='%s', delimiter='\\t', header='Phase\\tx\\ty\\tz\\tBands\\tError\\tEuler1\\tEuler2\\tEuler3\\tMAD\\tBC\\tBS', comments='')"
   ]
  },
  {
   "cell_type": "code",
   "execution_count": null,
   "metadata": {},
   "outputs": [],
   "source": [
    "import os\n",
    "\n",
    "def merge_ctf_files(source_folder, target_file):\n",
    "    with open(target_file, 'w') as target:\n",
    "        for root, dirs, files in os.walk(source_folder):\n",
    "            for file in files:\n",
    "                if file.endswith('.ctf'):\n",
    "                    file_path = os.path.join(root, file)\n",
    "                    with open(file_path, 'r') as f:\n",
    "                        content = f.read()\n",
    "                        target.write(content)\n",
    "                        # 可以在这里添加分隔符，例如:\n",
    "                        # target.write(\"\\n\\n\")\n",
    "\n",
    "# 使用示例\n",
    "merge_ctf_files('/Users/zhenbangchai/Documents/Programs/3D-EBSD analysis/Export_mod03', '/Users/zhenbangchai/Documents/Programs/3D-EBSD analysis/Export_mod03/EBSD Mapping Data.ctf')"
   ]
  },
  {
   "cell_type": "code",
   "execution_count": 1,
   "metadata": {},
   "outputs": [],
   "source": [
    "import os\n",
    "\n",
    "def merge_ctf_files_skip_lines(source_folder, target_file):\n",
    "    ctf_files = []\n",
    "    # 遍历文件夹，收集所有.ctf文件的路径\n",
    "    for root, dirs, files in os.walk(source_folder):\n",
    "        for file in files:\n",
    "            if file.endswith('.ctf'):\n",
    "                ctf_files.append(os.path.join(root, file))\n",
    "    \n",
    "    with open(target_file, 'w') as target:\n",
    "        for i, file_path in enumerate(ctf_files):\n",
    "            with open(file_path, 'r') as f:\n",
    "                if i == 0:\n",
    "                    # 第一个文件，保留所有内容\n",
    "                    content = f.read()\n",
    "                else:\n",
    "                    # 其他文件，跳过前17行\n",
    "                    for _ in range(17):\n",
    "                        next(f)\n",
    "                    content = f.read()\n",
    "                target.write(content)\n",
    "                # 可以在这里添加分隔符，例如:\n",
    "                # target.write(\"\\n\\n\")\n",
    "\n",
    "# 使用示例\n",
    "merge_ctf_files_skip_lines('/Users/zhenbangchai/Documents/Programs/3D-EBSD analysis/Export_mod03', '/Users/zhenbangchai/Documents/Programs/3D-EBSD analysis/Export_mod03/EBSD Mapping Data.ctf')"
   ]
  }
 ],
 "metadata": {
  "kernelspec": {
   "display_name": "Python 3",
   "language": "python",
   "name": "python3"
  },
  "language_info": {
   "codemirror_mode": {
    "name": "ipython",
    "version": 3
   },
   "file_extension": ".py",
   "mimetype": "text/x-python",
   "name": "python",
   "nbconvert_exporter": "python",
   "pygments_lexer": "ipython3",
   "version": "3.9.6"
  }
 },
 "nbformat": 4,
 "nbformat_minor": 2
}
