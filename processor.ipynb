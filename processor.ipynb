{
 "cells": [
  {
   "cell_type": "code",
   "execution_count": 1,
   "metadata": {},
   "outputs": [],
   "source": [
    "import numpy as np\n",
    "import pandas as pd"
   ]
  },
  {
   "cell_type": "code",
   "execution_count": 11,
   "metadata": {},
   "outputs": [
    {
     "name": "stdout",
     "output_type": "stream",
     "text": [
      "<class 'numpy.ndarray'>\n"
     ]
    }
   ],
   "source": [
    "data = np.loadtxt('3d_ebsd_20240619_combined_data.txt', skiprows=1)\n",
    "print(type(data))\n",
    "#print(data[:20])"
   ]
  },
  {
   "cell_type": "code",
   "execution_count": 13,
   "metadata": {},
   "outputs": [],
   "source": [
    "def euler_to_orientation(euler1, euler2, euler3, phase):\n",
    "    if phase == 0:\n",
    "        # If phase is 0, set R to all zeros\n",
    "        R = np.zeros((3, 3))\n",
    "        quaternion = np.array([0, 0, 0, 0])\n",
    "    else:\n",
    "        # Convert Euler angles to rotation matrix\n",
    "        R = np.array([\n",
    "            [np.cos(euler1) * np.cos(euler3) - np.sin(euler1) * np.sin(euler3) * np.cos(euler2),\n",
    "             np.sin(euler1) * np.cos(euler3) + np.cos(euler1) * np.sin(euler3) * np.cos(euler2),\n",
    "             np.sin(euler3) * np.sin(euler2)],\n",
    "            [-np.cos(euler1) * np.sin(euler3) - np.sin(euler1) * np.cos(euler3) * np.cos(euler2),\n",
    "             -np.sin(euler1) * np.sin(euler3) + np.cos(euler1) * np.cos(euler3) * np.cos(euler2),\n",
    "             np.cos(euler3) * np.sin(euler2)],\n",
    "            [np.sin(euler1) * np.sin(euler2),\n",
    "             -np.cos(euler1) * np.sin(euler2),\n",
    "             np.cos(euler2)]\n",
    "        ])\n",
    "\n",
    "        # Convert rotation matrix to quaternion\n",
    "        q0 = 0.5 * np.sqrt(1 + R[0, 0] + R[1, 1] + R[2, 2])\n",
    "        q1 = (R[2, 1] - R[1, 2]) / (4 * q0)\n",
    "        q2 = (R[0, 2] - R[2, 0]) / (4 * q0)\n",
    "        q3 = (R[1, 0] - R[0, 1]) / (4 * q0)\n",
    "        \n",
    "        # Convert quaternion to a NumPy array\n",
    "        quaternion = np.array([q0, q1, q2, q3])\n",
    "\n",
    "    return R, quaternion"
   ]
  },
  {
   "cell_type": "code",
   "execution_count": 15,
   "metadata": {},
   "outputs": [],
   "source": [
    "def process_data(data):\n",
    "    num_rows = len(data)\n",
    "    results = np.empty((num_rows, 13))  # 9 elements for R and 4 elements for quaternion\n",
    "    for i, row in enumerate(data):\n",
    "        phase, euler1, euler2, euler3 = row[0], np.deg2rad(row[6]), np.deg2rad(row[7]), np.deg2rad(row[8])  # Convert degrees to radians\n",
    "        R, quaternion = euler_to_orientation(phase, euler1, euler2, euler3)\n",
    "        results[i] = np.concatenate((R.ravel(), quaternion.ravel()))  # Concatenate the arrays and flatten\n",
    "    return results\n",
    "\n",
    "results = process_data(data)\n",
    "selected_columns = data[:, [0,1,2,3,6,7,8]]  # Select the Phase, x, y, z, Euler1, Euler2, Euler3 columns\n",
    "appended_data = np.hstack((selected_columns, results))\n",
    "\n",
    "# Save the results as a .txt file\n",
    "header = 'Phase\\tx\\ty\\tz\\tEuler1\\tEuler2\\tEuler3\\t' + '\\t'.join([f'R{i+1}' for i in range(9)]) + '\\t' + '\\t'.join([f'q{i+1}' for i in range(4)])\n",
    "np.savetxt('3d_ebsd_20240619_R_appended_data', appended_data, delimiter='\\t', header=header, fmt='%s')"
   ]
  },
  {
   "cell_type": "code",
   "execution_count": 64,
   "metadata": {},
   "outputs": [
    {
     "name": "stdout",
     "output_type": "stream",
     "text": [
      "17987028\n"
     ]
    }
   ],
   "source": [
    "#print(len(appended_data))"
   ]
  }
 ],
 "metadata": {
  "kernelspec": {
   "display_name": "Python 3",
   "language": "python",
   "name": "python3"
  },
  "language_info": {
   "codemirror_mode": {
    "name": "ipython",
    "version": 3
   },
   "file_extension": ".py",
   "mimetype": "text/x-python",
   "name": "python",
   "nbconvert_exporter": "python",
   "pygments_lexer": "ipython3",
   "version": "3.9.6"
  }
 },
 "nbformat": 4,
 "nbformat_minor": 2
}
